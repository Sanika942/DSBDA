{
 "cells": [
  {
   "cell_type": "code",
   "execution_count": 1,
   "id": "fe231035-bf0f-4c90-bec6-e9706db24bf6",
   "metadata": {},
   "outputs": [
    {
     "ename": "SyntaxError",
     "evalue": "invalid syntax (2014690866.py, line 3)",
     "output_type": "error",
     "traceback": [
      "\u001b[1;36m  Cell \u001b[1;32mIn[1], line 3\u001b[1;36m\u001b[0m\n\u001b[1;33m    object ArithmeticOperations {\u001b[0m\n\u001b[1;37m           ^\u001b[0m\n\u001b[1;31mSyntaxError\u001b[0m\u001b[1;31m:\u001b[0m invalid syntax\n"
     ]
    }
   ],
   "source": [
    "import scala.io.StdIn\n",
    "import org.apache.spark.sql.SparkSession\n",
    "object ArithmeticOperations {\n",
    "  def main(args: Array[String]): Unit = {\n",
    "    print(\"Enter two numbers : \")\n",
    "    val num1 = StdIn.readLine().toDouble\n",
    "    val num2 = StdIn.readLine().toDouble\n",
    "    println(\"Select an operation : \")\n",
    "    println(\"1. Addition\")\n",
    "    println(\"2. Subtraction\")\n",
    "    println(\"3. Multiplication\")\n",
    "    println(\"4. Division\")\n",
    "    val choice = StdIn.readLine().toInt\n",
    "    val result = choice match {\n",
    "      case 1 => num1 + num2\n",
    "      case 2 => num1 - num2\n",
    "      case 3 => num1 * num2\n",
    "      case 4 => if (num2 != 0) num1 / num2 else \"Cannot divide by zero\"\n",
    "      case _ => \"Invalid choice\"\n",
    "    }\n",
    "    println(s\"Result: $result\")\n",
    "  }\n",
    "}"
   ]
  },
  {
   "cell_type": "code",
   "execution_count": null,
   "id": "1d969bd0-efbb-4555-a06c-bff2f106fb5f",
   "metadata": {},
   "outputs": [],
   "source": []
  }
 ],
 "metadata": {
  "kernelspec": {
   "display_name": "Python 3 (ipykernel)",
   "language": "python",
   "name": "python3"
  },
  "language_info": {
   "codemirror_mode": {
    "name": "ipython",
    "version": 3
   },
   "file_extension": ".py",
   "mimetype": "text/x-python",
   "name": "python",
   "nbconvert_exporter": "python",
   "pygments_lexer": "ipython3",
   "version": "3.11.5"
  }
 },
 "nbformat": 4,
 "nbformat_minor": 5
}
